{
  "cells": [
    {
      "metadata": {
        "trusted": true
      },
      "cell_type": "code",
      "source": "import pandas as pd\n\ndata=pd.read_csv('multilabel_nlp_classification.csv')\n\ndata_p=data.loc[:,['id','movie decription','Thriller', 'Mystery',\n       'Sci-Fi', 'Romance', 'Horror', 'Fantasy', 'Musical', 'Family', 'Action',\n       'Biography', 'Crime', 'Animation', 'Comedy', 'Drama', 'History',\n       'Adventure']]\n",
      "execution_count": 1,
      "outputs": []
    },
    {
      "metadata": {
        "trusted": true
      },
      "cell_type": "code",
      "source": "from IPython.display import Markdown, display\ndef printmd(string):\n    display(Markdown(string))\n#printmd('**bold**')",
      "execution_count": 2,
      "outputs": []
    },
    {
      "metadata": {
        "trusted": true
      },
      "cell_type": "code",
      "source": "\n\nimport os\nimport csv\nimport pandas as pd\nimport numpy as np\nimport matplotlib.pyplot as plt\nimport seaborn as sns\n\n",
      "execution_count": 3,
      "outputs": []
    },
    {
      "metadata": {
        "trusted": true
      },
      "cell_type": "code",
      "source": "data_p.head()",
      "execution_count": 4,
      "outputs": [
        {
          "output_type": "execute_result",
          "execution_count": 4,
          "data": {
            "text/html": "<div>\n<style scoped>\n    .dataframe tbody tr th:only-of-type {\n        vertical-align: middle;\n    }\n\n    .dataframe tbody tr th {\n        vertical-align: top;\n    }\n\n    .dataframe thead th {\n        text-align: right;\n    }\n</style>\n<table border=\"1\" class=\"dataframe\">\n  <thead>\n    <tr style=\"text-align: right;\">\n      <th></th>\n      <th>id</th>\n      <th>movie decription</th>\n      <th>Thriller</th>\n      <th>Mystery</th>\n      <th>Sci-Fi</th>\n      <th>Romance</th>\n      <th>Horror</th>\n      <th>Fantasy</th>\n      <th>Musical</th>\n      <th>Family</th>\n      <th>Action</th>\n      <th>Biography</th>\n      <th>Crime</th>\n      <th>Animation</th>\n      <th>Comedy</th>\n      <th>Drama</th>\n      <th>History</th>\n      <th>Adventure</th>\n    </tr>\n  </thead>\n  <tbody>\n    <tr>\n      <th>0</th>\n      <td>0</td>\n      <td>\\n    In a future where mutants are nearly ext...</td>\n      <td>0</td>\n      <td>0</td>\n      <td>1</td>\n      <td>0</td>\n      <td>0</td>\n      <td>0</td>\n      <td>0</td>\n      <td>0</td>\n      <td>1</td>\n      <td>0</td>\n      <td>0</td>\n      <td>0</td>\n      <td>0</td>\n      <td>1</td>\n      <td>0</td>\n      <td>0</td>\n    </tr>\n    <tr>\n      <th>1</th>\n      <td>1</td>\n      <td>\\n    When a pilot crashes and tells of confli...</td>\n      <td>0</td>\n      <td>0</td>\n      <td>0</td>\n      <td>0</td>\n      <td>0</td>\n      <td>1</td>\n      <td>0</td>\n      <td>0</td>\n      <td>1</td>\n      <td>0</td>\n      <td>0</td>\n      <td>0</td>\n      <td>0</td>\n      <td>0</td>\n      <td>0</td>\n      <td>1</td>\n    </tr>\n    <tr>\n      <th>2</th>\n      <td>2</td>\n      <td>\\n    Thor (Chris Hemsworth) is imprisoned on ...</td>\n      <td>0</td>\n      <td>0</td>\n      <td>0</td>\n      <td>0</td>\n      <td>0</td>\n      <td>0</td>\n      <td>0</td>\n      <td>0</td>\n      <td>1</td>\n      <td>0</td>\n      <td>0</td>\n      <td>0</td>\n      <td>1</td>\n      <td>0</td>\n      <td>0</td>\n      <td>1</td>\n    </tr>\n    <tr>\n      <th>3</th>\n      <td>3</td>\n      <td>\\n    The Guardians struggle to keep together ...</td>\n      <td>0</td>\n      <td>0</td>\n      <td>0</td>\n      <td>0</td>\n      <td>0</td>\n      <td>0</td>\n      <td>0</td>\n      <td>0</td>\n      <td>1</td>\n      <td>0</td>\n      <td>0</td>\n      <td>0</td>\n      <td>1</td>\n      <td>0</td>\n      <td>0</td>\n      <td>1</td>\n    </tr>\n    <tr>\n      <th>4</th>\n      <td>4</td>\n      <td>\\n    Allied soldiers from Belgium, the Britis...</td>\n      <td>0</td>\n      <td>0</td>\n      <td>0</td>\n      <td>0</td>\n      <td>0</td>\n      <td>0</td>\n      <td>0</td>\n      <td>0</td>\n      <td>1</td>\n      <td>0</td>\n      <td>0</td>\n      <td>0</td>\n      <td>0</td>\n      <td>1</td>\n      <td>1</td>\n      <td>0</td>\n    </tr>\n  </tbody>\n</table>\n</div>",
            "text/plain": "   id                                   movie decription  Thriller  Mystery  \\\n0   0  \\n    In a future where mutants are nearly ext...         0        0   \n1   1  \\n    When a pilot crashes and tells of confli...         0        0   \n2   2  \\n    Thor (Chris Hemsworth) is imprisoned on ...         0        0   \n3   3  \\n    The Guardians struggle to keep together ...         0        0   \n4   4  \\n    Allied soldiers from Belgium, the Britis...         0        0   \n\n   Sci-Fi  Romance  Horror  Fantasy  Musical  Family  Action  Biography  \\\n0       1        0       0        0        0       0       1          0   \n1       0        0       0        1        0       0       1          0   \n2       0        0       0        0        0       0       1          0   \n3       0        0       0        0        0       0       1          0   \n4       0        0       0        0        0       0       1          0   \n\n   Crime  Animation  Comedy  Drama  History  Adventure  \n0      0          0       0      1        0          0  \n1      0          0       0      0        0          1  \n2      0          0       1      0        0          1  \n3      0          0       1      0        0          1  \n4      0          0       0      1        1          0  "
          },
          "metadata": {}
        }
      ]
    },
    {
      "metadata": {
        "trusted": true
      },
      "cell_type": "code",
      "source": "\nprint(\"Number of rows in data =\",data_p.shape[0])\nprint(\"Number of columns in data =\",data_p.shape[1])\n\nprint(\"\\n\")",
      "execution_count": 5,
      "outputs": [
        {
          "output_type": "stream",
          "text": "Number of rows in data = 6116\nNumber of columns in data = 18\n\n\n",
          "name": "stdout"
        }
      ]
    },
    {
      "metadata": {
        "trusted": true
      },
      "cell_type": "code",
      "source": "missing_values_check = data_p.isnull().sum()\nprint(missing_values_check)",
      "execution_count": 6,
      "outputs": [
        {
          "output_type": "stream",
          "text": "id                  0\nmovie decription    0\nThriller            0\nMystery             0\nSci-Fi              0\nRomance             0\nHorror              0\nFantasy             0\nMusical             0\nFamily              0\nAction              0\nBiography           0\nCrime               0\nAnimation           0\nComedy              0\nDrama               0\nHistory             0\nAdventure           0\ndtype: int64\n",
          "name": "stdout"
        }
      ]
    },
    {
      "metadata": {
        "trusted": true
      },
      "cell_type": "code",
      "source": "categories = list(data_p.columns.values)\ncategories = categories[2:]\nprint(categories)",
      "execution_count": 7,
      "outputs": [
        {
          "output_type": "stream",
          "text": "['Thriller', 'Mystery', 'Sci-Fi', 'Romance', 'Horror', 'Fantasy', 'Musical', 'Family', 'Action', 'Biography', 'Crime', 'Animation', 'Comedy', 'Drama', 'History', 'Adventure']\n",
          "name": "stdout"
        }
      ]
    },
    {
      "metadata": {
        "trusted": true
      },
      "cell_type": "code",
      "source": "counts = []\nfor category in categories:\n    counts.append((category, data_p[category].sum()))\ndf_stats = pd.DataFrame(counts, columns=['category', 'number of comments'])\ndf_stats",
      "execution_count": 8,
      "outputs": [
        {
          "output_type": "execute_result",
          "execution_count": 8,
          "data": {
            "text/html": "<div>\n<style scoped>\n    .dataframe tbody tr th:only-of-type {\n        vertical-align: middle;\n    }\n\n    .dataframe tbody tr th {\n        vertical-align: top;\n    }\n\n    .dataframe thead th {\n        text-align: right;\n    }\n</style>\n<table border=\"1\" class=\"dataframe\">\n  <thead>\n    <tr style=\"text-align: right;\">\n      <th></th>\n      <th>category</th>\n      <th>number of comments</th>\n    </tr>\n  </thead>\n  <tbody>\n    <tr>\n      <th>0</th>\n      <td>Thriller</td>\n      <td>1112</td>\n    </tr>\n    <tr>\n      <th>1</th>\n      <td>Mystery</td>\n      <td>834</td>\n    </tr>\n    <tr>\n      <th>2</th>\n      <td>Sci-Fi</td>\n      <td>973</td>\n    </tr>\n    <tr>\n      <th>3</th>\n      <td>Romance</td>\n      <td>139</td>\n    </tr>\n    <tr>\n      <th>4</th>\n      <td>Horror</td>\n      <td>695</td>\n    </tr>\n    <tr>\n      <th>5</th>\n      <td>Fantasy</td>\n      <td>1390</td>\n    </tr>\n    <tr>\n      <th>6</th>\n      <td>Musical</td>\n      <td>278</td>\n    </tr>\n    <tr>\n      <th>7</th>\n      <td>Family</td>\n      <td>139</td>\n    </tr>\n    <tr>\n      <th>8</th>\n      <td>Action</td>\n      <td>3753</td>\n    </tr>\n    <tr>\n      <th>9</th>\n      <td>Biography</td>\n      <td>556</td>\n    </tr>\n    <tr>\n      <th>10</th>\n      <td>Crime</td>\n      <td>973</td>\n    </tr>\n    <tr>\n      <th>11</th>\n      <td>Animation</td>\n      <td>278</td>\n    </tr>\n    <tr>\n      <th>12</th>\n      <td>Comedy</td>\n      <td>1529</td>\n    </tr>\n    <tr>\n      <th>13</th>\n      <td>Drama</td>\n      <td>2363</td>\n    </tr>\n    <tr>\n      <th>14</th>\n      <td>History</td>\n      <td>278</td>\n    </tr>\n    <tr>\n      <th>15</th>\n      <td>Adventure</td>\n      <td>2502</td>\n    </tr>\n  </tbody>\n</table>\n</div>",
            "text/plain": "     category  number of comments\n0    Thriller                1112\n1     Mystery                 834\n2      Sci-Fi                 973\n3     Romance                 139\n4      Horror                 695\n5     Fantasy                1390\n6     Musical                 278\n7      Family                 139\n8      Action                3753\n9   Biography                 556\n10      Crime                 973\n11  Animation                 278\n12     Comedy                1529\n13      Drama                2363\n14    History                 278\n15  Adventure                2502"
          },
          "metadata": {}
        }
      ]
    },
    {
      "metadata": {
        "trusted": true
      },
      "cell_type": "code",
      "source": "sns.set(font_scale = 2)\nplt.figure(figsize=(35,18))\n\nax= sns.barplot(categories, data_p.iloc[:,2:].sum().values)\n\nplt.title(\"Comments in each category\", fontsize=24)\nplt.ylabel('Number of comments', fontsize=18)\nplt.xlabel('Comment Type ', fontsize=18)\n\n#adding the text labels\nrects = ax.patches\nlabels = data_p.iloc[:,2:].sum().values\nfor rect, label in zip(rects, labels):\n    height = rect.get_height()\n    ax.text(rect.get_x() + rect.get_width()/2, height + 5, label, ha='center', va='bottom', fontsize=18)\n\nplt.show()",
      "execution_count": 9,
      "outputs": [
        {
          "output_type": "display_data",
          "data": {
            "image/png": "[encoded data removed]",
            "text/plain": "<Figure size 2520x1296 with 1 Axes>"
          },
          "metadata": {}
        }
      ]
    },
    {
      "metadata": {
        "trusted": true
      },
      "cell_type": "code",
      "source": "import nltk\nfrom nltk.corpus import stopwords\nfrom nltk.stem.snowball import SnowballStemmer\nimport re\n\nimport sys\nimport warnings\n\nif not sys.warnoptions:\n    warnings.simplefilter(\"ignore\")",
      "execution_count": 10,
      "outputs": []
    },
    {
      "metadata": {
        "trusted": true
      },
      "cell_type": "code",
      "source": "def cleanPunc(sentence): #function to clean the word of any punctuation or special characters\n    cleaned = re.sub(r'[?|!|\\'|\"|#]',r'',sentence)\n    cleaned = re.sub(r'[.|,|)|(|\\|/]',r' ',cleaned)\n    cleaned = cleaned.strip()\n    cleaned = cleaned.replace(\"\\n\",\" \")\n    return cleaned\n\n\ndef keepAlpha(sentence):\n    alpha_sent = \"\"\n    for word in sentence.split():\n        alpha_word = re.sub('[^a-z A-Z]+', ' ', word)\n        alpha_sent += alpha_word\n        alpha_sent += \" \"\n    alpha_sent = alpha_sent.strip()\n    return alpha_sent",
      "execution_count": 11,
      "outputs": []
    },
    {
      "metadata": {
        "trusted": true
      },
      "cell_type": "code",
      "source": "data_p['movie decription'] = data_p['movie decription'].str.lower()\ndata_p['movie decription'] = data_p['movie decription'].apply(cleanPunc)\ndata_p['movie decription'] = data_p['movie decription'].apply(keepAlpha)\ndata_p.head()",
      "execution_count": 12,
      "outputs": [
        {
          "output_type": "execute_result",
          "execution_count": 12,
          "data": {
            "text/html": "<div>\n<style scoped>\n    .dataframe tbody tr th:only-of-type {\n        vertical-align: middle;\n    }\n\n    .dataframe tbody tr th {\n        vertical-align: top;\n    }\n\n    .dataframe thead th {\n        text-align: right;\n    }\n</style>\n<table border=\"1\" class=\"dataframe\">\n  <thead>\n    <tr style=\"text-align: right;\">\n      <th></th>\n      <th>id</th>\n      <th>movie decription</th>\n      <th>Thriller</th>\n      <th>Mystery</th>\n      <th>Sci-Fi</th>\n      <th>Romance</th>\n      <th>Horror</th>\n      <th>Fantasy</th>\n      <th>Musical</th>\n      <th>Family</th>\n      <th>Action</th>\n      <th>Biography</th>\n      <th>Crime</th>\n      <th>Animation</th>\n      <th>Comedy</th>\n      <th>Drama</th>\n      <th>History</th>\n      <th>Adventure</th>\n    </tr>\n  </thead>\n  <tbody>\n    <tr>\n      <th>0</th>\n      <td>0</td>\n      <td>in a future where mutants are nearly extinct a...</td>\n      <td>0</td>\n      <td>0</td>\n      <td>1</td>\n      <td>0</td>\n      <td>0</td>\n      <td>0</td>\n      <td>0</td>\n      <td>0</td>\n      <td>1</td>\n      <td>0</td>\n      <td>0</td>\n      <td>0</td>\n      <td>0</td>\n      <td>1</td>\n      <td>0</td>\n      <td>0</td>\n    </tr>\n    <tr>\n      <th>1</th>\n      <td>1</td>\n      <td>when a pilot crashes and tells of conflict in ...</td>\n      <td>0</td>\n      <td>0</td>\n      <td>0</td>\n      <td>0</td>\n      <td>0</td>\n      <td>1</td>\n      <td>0</td>\n      <td>0</td>\n      <td>1</td>\n      <td>0</td>\n      <td>0</td>\n      <td>0</td>\n      <td>0</td>\n      <td>0</td>\n      <td>0</td>\n      <td>1</td>\n    </tr>\n    <tr>\n      <th>2</th>\n      <td>2</td>\n      <td>thor chris hemsworth is imprisoned on the plan...</td>\n      <td>0</td>\n      <td>0</td>\n      <td>0</td>\n      <td>0</td>\n      <td>0</td>\n      <td>0</td>\n      <td>0</td>\n      <td>0</td>\n      <td>1</td>\n      <td>0</td>\n      <td>0</td>\n      <td>0</td>\n      <td>1</td>\n      <td>0</td>\n      <td>0</td>\n      <td>1</td>\n    </tr>\n    <tr>\n      <th>3</th>\n      <td>3</td>\n      <td>the guardians struggle to keep together as a t...</td>\n      <td>0</td>\n      <td>0</td>\n      <td>0</td>\n      <td>0</td>\n      <td>0</td>\n      <td>0</td>\n      <td>0</td>\n      <td>0</td>\n      <td>1</td>\n      <td>0</td>\n      <td>0</td>\n      <td>0</td>\n      <td>1</td>\n      <td>0</td>\n      <td>0</td>\n      <td>1</td>\n    </tr>\n    <tr>\n      <th>4</th>\n      <td>4</td>\n      <td>allied soldiers from belgium the british empir...</td>\n      <td>0</td>\n      <td>0</td>\n      <td>0</td>\n      <td>0</td>\n      <td>0</td>\n      <td>0</td>\n      <td>0</td>\n      <td>0</td>\n      <td>1</td>\n      <td>0</td>\n      <td>0</td>\n      <td>0</td>\n      <td>0</td>\n      <td>1</td>\n      <td>1</td>\n      <td>0</td>\n    </tr>\n  </tbody>\n</table>\n</div>",
            "text/plain": "   id                                   movie decription  Thriller  Mystery  \\\n0   0  in a future where mutants are nearly extinct a...         0        0   \n1   1  when a pilot crashes and tells of conflict in ...         0        0   \n2   2  thor chris hemsworth is imprisoned on the plan...         0        0   \n3   3  the guardians struggle to keep together as a t...         0        0   \n4   4  allied soldiers from belgium the british empir...         0        0   \n\n   Sci-Fi  Romance  Horror  Fantasy  Musical  Family  Action  Biography  \\\n0       1        0       0        0        0       0       1          0   \n1       0        0       0        1        0       0       1          0   \n2       0        0       0        0        0       0       1          0   \n3       0        0       0        0        0       0       1          0   \n4       0        0       0        0        0       0       1          0   \n\n   Crime  Animation  Comedy  Drama  History  Adventure  \n0      0          0       0      1        0          0  \n1      0          0       0      0        0          1  \n2      0          0       1      0        0          1  \n3      0          0       1      0        0          1  \n4      0          0       0      1        1          0  "
          },
          "metadata": {}
        }
      ]
    },
    {
      "metadata": {
        "trusted": true
      },
      "cell_type": "code",
      "source": "\n\nstop_words = set(stopwords.words('english'))\nstop_words.update(['zero','one','two','three','four','five','six','seven','eight','nine','ten','may','also','across','among','beside','however','yet','within'])\nre_stop_words = re.compile(r\"\\b(\" + \"|\".join(stop_words) + \")\\\\W\", re.I)\ndef removeStopWords(sentence):\n    global re_stop_words\n    return re_stop_words.sub(\" \", sentence)\n\ndata_p['movie decription'] = data_p['movie decription'].apply(removeStopWords)\ndata_p.head()\n\n",
      "execution_count": 13,
      "outputs": [
        {
          "output_type": "execute_result",
          "execution_count": 13,
          "data": {
            "text/html": "<div>\n<style scoped>\n    .dataframe tbody tr th:only-of-type {\n        vertical-align: middle;\n    }\n\n    .dataframe tbody tr th {\n        vertical-align: top;\n    }\n\n    .dataframe thead th {\n        text-align: right;\n    }\n</style>\n<table border=\"1\" class=\"dataframe\">\n  <thead>\n    <tr style=\"text-align: right;\">\n      <th></th>\n      <th>id</th>\n      <th>movie decription</th>\n      <th>Thriller</th>\n      <th>Mystery</th>\n      <th>Sci-Fi</th>\n      <th>Romance</th>\n      <th>Horror</th>\n      <th>Fantasy</th>\n      <th>Musical</th>\n      <th>Family</th>\n      <th>Action</th>\n      <th>Biography</th>\n      <th>Crime</th>\n      <th>Animation</th>\n      <th>Comedy</th>\n      <th>Drama</th>\n      <th>History</th>\n      <th>Adventure</th>\n    </tr>\n  </thead>\n  <tbody>\n    <tr>\n      <th>0</th>\n      <td>0</td>\n      <td>future  mutants  nearly extinct  elderly  we...</td>\n      <td>0</td>\n      <td>0</td>\n      <td>1</td>\n      <td>0</td>\n      <td>0</td>\n      <td>0</td>\n      <td>0</td>\n      <td>0</td>\n      <td>1</td>\n      <td>0</td>\n      <td>0</td>\n      <td>0</td>\n      <td>0</td>\n      <td>1</td>\n      <td>0</td>\n      <td>0</td>\n    </tr>\n    <tr>\n      <th>1</th>\n      <td>1</td>\n      <td>pilot crashes  tells  conflict   outside wor...</td>\n      <td>0</td>\n      <td>0</td>\n      <td>0</td>\n      <td>0</td>\n      <td>0</td>\n      <td>1</td>\n      <td>0</td>\n      <td>0</td>\n      <td>1</td>\n      <td>0</td>\n      <td>0</td>\n      <td>0</td>\n      <td>0</td>\n      <td>0</td>\n      <td>0</td>\n      <td>1</td>\n    </tr>\n    <tr>\n      <th>2</th>\n      <td>2</td>\n      <td>thor chris hemsworth  imprisoned   planet saka...</td>\n      <td>0</td>\n      <td>0</td>\n      <td>0</td>\n      <td>0</td>\n      <td>0</td>\n      <td>0</td>\n      <td>0</td>\n      <td>0</td>\n      <td>1</td>\n      <td>0</td>\n      <td>0</td>\n      <td>0</td>\n      <td>1</td>\n      <td>0</td>\n      <td>0</td>\n      <td>1</td>\n    </tr>\n    <tr>\n      <th>3</th>\n      <td>3</td>\n      <td>guardians struggle  keep together   team  dea...</td>\n      <td>0</td>\n      <td>0</td>\n      <td>0</td>\n      <td>0</td>\n      <td>0</td>\n      <td>0</td>\n      <td>0</td>\n      <td>0</td>\n      <td>1</td>\n      <td>0</td>\n      <td>0</td>\n      <td>0</td>\n      <td>1</td>\n      <td>0</td>\n      <td>0</td>\n      <td>1</td>\n    </tr>\n    <tr>\n      <th>4</th>\n      <td>4</td>\n      <td>allied soldiers  belgium  british empire  fran...</td>\n      <td>0</td>\n      <td>0</td>\n      <td>0</td>\n      <td>0</td>\n      <td>0</td>\n      <td>0</td>\n      <td>0</td>\n      <td>0</td>\n      <td>1</td>\n      <td>0</td>\n      <td>0</td>\n      <td>0</td>\n      <td>0</td>\n      <td>1</td>\n      <td>1</td>\n      <td>0</td>\n    </tr>\n  </tbody>\n</table>\n</div>",
            "text/plain": "   id                                   movie decription  Thriller  Mystery  \\\n0   0    future  mutants  nearly extinct  elderly  we...         0        0   \n1   1    pilot crashes  tells  conflict   outside wor...         0        0   \n2   2  thor chris hemsworth  imprisoned   planet saka...         0        0   \n3   3   guardians struggle  keep together   team  dea...         0        0   \n4   4  allied soldiers  belgium  british empire  fran...         0        0   \n\n   Sci-Fi  Romance  Horror  Fantasy  Musical  Family  Action  Biography  \\\n0       1        0       0        0        0       0       1          0   \n1       0        0       0        1        0       0       1          0   \n2       0        0       0        0        0       0       1          0   \n3       0        0       0        0        0       0       1          0   \n4       0        0       0        0        0       0       1          0   \n\n   Crime  Animation  Comedy  Drama  History  Adventure  \n0      0          0       0      1        0          0  \n1      0          0       0      0        0          1  \n2      0          0       1      0        0          1  \n3      0          0       1      0        0          1  \n4      0          0       0      1        1          0  "
          },
          "metadata": {}
        }
      ]
    },
    {
      "metadata": {
        "trusted": true
      },
      "cell_type": "code",
      "source": "nltk.download('stopwords')",
      "execution_count": 14,
      "outputs": [
        {
          "output_type": "stream",
          "text": "[nltk_data] Downloading package stopwords to /home/nbuser/nltk_data...\n[nltk_data]   Package stopwords is already up-to-date!\n",
          "name": "stdout"
        },
        {
          "output_type": "execute_result",
          "execution_count": 14,
          "data": {
            "text/plain": "True"
          },
          "metadata": {}
        }
      ]
    },
    {
      "metadata": {
        "trusted": true
      },
      "cell_type": "code",
      "source": "\n\nfrom sklearn.model_selection import train_test_split\n\ntrain, test = train_test_split(data_p, random_state=42, test_size=0.30, shuffle=True)\n\nprint(train.shape)\nprint(test.shape)\n\n",
      "execution_count": 15,
      "outputs": [
        {
          "output_type": "stream",
          "text": "(4281, 18)\n(1835, 18)\n",
          "name": "stdout"
        }
      ]
    },
    {
      "metadata": {
        "trusted": true
      },
      "cell_type": "code",
      "source": "\n\ntrain_text = train['movie decription']\ntest_text = test['movie decription']\n\n",
      "execution_count": 16,
      "outputs": []
    },
    {
      "metadata": {
        "trusted": true
      },
      "cell_type": "code",
      "source": "from sklearn.feature_extraction.text import TfidfVectorizer\nvectorizer = TfidfVectorizer(strip_accents='unicode', analyzer='word', ngram_range=(1,3), norm='l2')\nvectorizer.fit(train_text)\nvectorizer.fit(test_text)",
      "execution_count": 17,
      "outputs": [
        {
          "output_type": "execute_result",
          "execution_count": 17,
          "data": {
            "text/plain": "TfidfVectorizer(analyzer='word', binary=False, decode_error='strict',\n        dtype=<class 'numpy.float64'>, encoding='utf-8', input='content',\n        lowercase=True, max_df=1.0, max_features=None, min_df=1,\n        ngram_range=(1, 3), norm='l2', preprocessor=None, smooth_idf=True,\n        stop_words=None, strip_accents='unicode', sublinear_tf=False,\n        token_pattern='(?u)\\\\b\\\\w\\\\w+\\\\b', tokenizer=None, use_idf=True,\n        vocabulary=None)"
          },
          "metadata": {}
        }
      ]
    },
    {
      "metadata": {
        "trusted": true
      },
      "cell_type": "code",
      "source": "\n\nx_train = vectorizer.transform(train_text)\ny_train = train.drop(labels = ['id','movie decription'], axis=1)\n\nx_test = vectorizer.transform(test_text)\ny_test = test.drop(labels = ['id','movie decription'], axis=1)\n\n",
      "execution_count": 18,
      "outputs": []
    },
    {
      "metadata": {
        "trusted": true
      },
      "cell_type": "code",
      "source": "\n\nfrom sklearn.linear_model import LogisticRegression\nfrom sklearn.pipeline import Pipeline\nfrom sklearn.metrics import accuracy_score\nfrom sklearn.multiclass import OneVsRestClassifier\n\n",
      "execution_count": 19,
      "outputs": []
    },
    {
      "metadata": {
        "trusted": true
      },
      "cell_type": "code",
      "source": "%%time\n\n# Using pipeline for applying logistic regression and one vs rest classifier\nLogReg_pipeline = Pipeline([\n                ('clf', OneVsRestClassifier(LogisticRegression(solver='sag'), n_jobs=-1)),\n            ])\n\nfor category in categories:\n    printmd('**Processing {} comments...**'.format(category))\n    \n    # Training logistic regression model on train data\n    LogReg_pipeline.fit(x_train, train[category])\n    \n    # calculating test accuracy\n    prediction = LogReg_pipeline.predict(x_test)\n    print('Test accuracy is {}'.format(accuracy_score(test[category], prediction)))\n    print(\"\\n\")",
      "execution_count": 20,
      "outputs": [
        {
          "output_type": "display_data",
          "data": {
            "text/markdown": "**Processing Thriller comments...**",
            "text/plain": "<IPython.core.display.Markdown object>"
          },
          "metadata": {}
        },
        {
          "output_type": "stream",
          "text": "Test accuracy is 1.0\n\n\n",
          "name": "stdout"
        },
        {
          "output_type": "display_data",
          "data": {
            "text/markdown": "**Processing Mystery comments...**",
            "text/plain": "<IPython.core.display.Markdown object>"
          },
          "metadata": {}
        },
        {
          "output_type": "stream",
          "text": "Test accuracy is 1.0\n\n\n",
          "name": "stdout"
        },
        {
          "output_type": "display_data",
          "data": {
            "text/markdown": "**Processing Sci-Fi comments...**",
            "text/plain": "<IPython.core.display.Markdown object>"
          },
          "metadata": {}
        },
        {
          "output_type": "stream",
          "text": "Test accuracy is 1.0\n\n\n",
          "name": "stdout"
        },
        {
          "output_type": "display_data",
          "data": {
            "text/markdown": "**Processing Romance comments...**",
            "text/plain": "<IPython.core.display.Markdown object>"
          },
          "metadata": {}
        },
        {
          "output_type": "stream",
          "text": "Test accuracy is 1.0\n\n\n",
          "name": "stdout"
        },
        {
          "output_type": "display_data",
          "data": {
            "text/markdown": "**Processing Horror comments...**",
            "text/plain": "<IPython.core.display.Markdown object>"
          },
          "metadata": {}
        },
        {
          "output_type": "stream",
          "text": "Test accuracy is 1.0\n\n\n",
          "name": "stdout"
        },
        {
          "output_type": "display_data",
          "data": {
            "text/markdown": "**Processing Fantasy comments...**",
            "text/plain": "<IPython.core.display.Markdown object>"
          },
          "metadata": {}
        },
        {
          "output_type": "stream",
          "text": "Test accuracy is 1.0\n\n\n",
          "name": "stdout"
        },
        {
          "output_type": "display_data",
          "data": {
            "text/markdown": "**Processing Musical comments...**",
            "text/plain": "<IPython.core.display.Markdown object>"
          },
          "metadata": {}
        },
        {
          "output_type": "stream",
          "text": "Test accuracy is 1.0\n\n\n",
          "name": "stdout"
        },
        {
          "output_type": "display_data",
          "data": {
            "text/markdown": "**Processing Family comments...**",
            "text/plain": "<IPython.core.display.Markdown object>"
          },
          "metadata": {}
        },
        {
          "output_type": "stream",
          "text": "Test accuracy is 1.0\n\n\n",
          "name": "stdout"
        },
        {
          "output_type": "display_data",
          "data": {
            "text/markdown": "**Processing Action comments...**",
            "text/plain": "<IPython.core.display.Markdown object>"
          },
          "metadata": {}
        },
        {
          "output_type": "stream",
          "text": "Test accuracy is 1.0\n\n\n",
          "name": "stdout"
        },
        {
          "output_type": "display_data",
          "data": {
            "text/markdown": "**Processing Biography comments...**",
            "text/plain": "<IPython.core.display.Markdown object>"
          },
          "metadata": {}
        },
        {
          "output_type": "stream",
          "text": "Test accuracy is 1.0\n\n\n",
          "name": "stdout"
        },
        {
          "output_type": "display_data",
          "data": {
            "text/markdown": "**Processing Crime comments...**",
            "text/plain": "<IPython.core.display.Markdown object>"
          },
          "metadata": {}
        },
        {
          "output_type": "stream",
          "text": "Test accuracy is 1.0\n\n\n",
          "name": "stdout"
        },
        {
          "output_type": "display_data",
          "data": {
            "text/markdown": "**Processing Animation comments...**",
            "text/plain": "<IPython.core.display.Markdown object>"
          },
          "metadata": {}
        },
        {
          "output_type": "stream",
          "text": "Test accuracy is 1.0\n\n\n",
          "name": "stdout"
        },
        {
          "output_type": "display_data",
          "data": {
            "text/markdown": "**Processing Comedy comments...**",
            "text/plain": "<IPython.core.display.Markdown object>"
          },
          "metadata": {}
        },
        {
          "output_type": "stream",
          "text": "Test accuracy is 1.0\n\n\n",
          "name": "stdout"
        },
        {
          "output_type": "display_data",
          "data": {
            "text/markdown": "**Processing Drama comments...**",
            "text/plain": "<IPython.core.display.Markdown object>"
          },
          "metadata": {}
        },
        {
          "output_type": "stream",
          "text": "Test accuracy is 1.0\n\n\n",
          "name": "stdout"
        },
        {
          "output_type": "display_data",
          "data": {
            "text/markdown": "**Processing History comments...**",
            "text/plain": "<IPython.core.display.Markdown object>"
          },
          "metadata": {}
        },
        {
          "output_type": "stream",
          "text": "Test accuracy is 1.0\n\n\n",
          "name": "stdout"
        },
        {
          "output_type": "display_data",
          "data": {
            "text/markdown": "**Processing Adventure comments...**",
            "text/plain": "<IPython.core.display.Markdown object>"
          },
          "metadata": {}
        },
        {
          "output_type": "stream",
          "text": "Test accuracy is 1.0\n\n\nCPU times: user 554 ms, sys: 250 ms, total: 804 ms\nWall time: 11.6 s\n",
          "name": "stdout"
        }
      ]
    },
    {
      "metadata": {
        "trusted": true
      },
      "cell_type": "code",
      "source": "%%time\n\n# using binary relevance\nfrom skmultilearn.problem_transform import BinaryRelevance\nfrom sklearn.naive_bayes import GaussianNB\n\n# initialize binary relevance multi-label classifier\n# with a gaussian naive bayes base classifier\nclassifier = BinaryRelevance(GaussianNB())\n\n# train\nclassifier.fit(x_train, y_train)\n\n# predict\npredictions = classifier.predict(x_test)\n\n# accuracy\nprint(\"Accuracy = \",accuracy_score(y_test,predictions))\nprint(\"\\n\")",
      "execution_count": 24,
      "outputs": [
        {
          "output_type": "stream",
          "text": "Accuracy =  1.0\n\n\nCPU times: user 6.86 s, sys: 3.52 s, total: 10.4 s\nWall time: 10.4 s\n",
          "name": "stdout"
        }
      ]
    },
    {
      "metadata": {
        "trusted": true
      },
      "cell_type": "code",
      "source": "!pip install scikit-multilearn",
      "execution_count": null,
      "outputs": []
    },
    {
      "metadata": {
        "trusted": true
      },
      "cell_type": "code",
      "source": "# using classifier chains\nfrom skmultilearn.problem_transform import ClassifierChain\nfrom sklearn.linear_model import LogisticRegression\n\n\n# initialize classifier chains multi-label classifier\nclassifier = ClassifierChain(LogisticRegression())\n\n# Training logistic regression model on train data\nclassifier.fit(x_train, y_train)\n\n# predict\npredictions = classifier.predict(x_test)\n\n# accuracy\nprint(\"Accuracy = \",accuracy_score(y_test,predictions))\nprint(\"\\n\")\n",
      "execution_count": 25,
      "outputs": [
        {
          "output_type": "stream",
          "text": "Accuracy =  1.0\n\n\n",
          "name": "stdout"
        }
      ]
    },
    {
      "metadata": {
        "trusted": true
      },
      "cell_type": "code",
      "source": "# using Label Powerset\nfrom skmultilearn.problem_transform import LabelPowerset\n# initialize label powerset multi-label classifier\nclassifier = LabelPowerset(LogisticRegression())\n\n# train\nclassifier.fit(x_train, y_train)\n\n# predict\npredictions = classifier.predict(x_test)\n\n# accuracy\nprint(\"Accuracy = \",accuracy_score(y_test,predictions))",
      "execution_count": 26,
      "outputs": [
        {
          "output_type": "stream",
          "text": "Accuracy =  1.0\n",
          "name": "stdout"
        }
      ]
    },
    {
      "metadata": {
        "trusted": true
      },
      "cell_type": "code",
      "source": "\nfrom skmultilearn.adapt import MLkNN\nfrom scipy.sparse import csr_matrix, lil_matrix\nclassifier_new = MLkNN(k=10)\n\n# Note that this classifier can throw up errors when handling sparse matrices.\n\nx_train = lil_matrix(x_train).toarray()\ny_train = lil_matrix(y_train).toarray()\nx_test = lil_matrix(x_test).toarray()\n\n# train\nclassifier_new.fit(x_train, y_train)\n\n# predict\npredictions_new = classifier_new.predict(x_test)\n\n# accuracy\nprint(\"Accuracy = \",accuracy_score(y_test,predictions_new))\n",
      "execution_count": 27,
      "outputs": [
        {
          "output_type": "stream",
          "text": "Accuracy =  1.0\n",
          "name": "stdout"
        }
      ]
    },
    {
      "metadata": {},
      "cell_type": "markdown",
      "source": "### Test"
    },
    {
      "metadata": {
        "trusted": true
      },
      "cell_type": "code",
      "source": "text='In a future where mutants are nearly extinct, an elderly and weary Logan leads a quiet life. But when Laura, a mutant child pursued by scientists, comes to him for help, he must get her to safety.'",
      "execution_count": 28,
      "outputs": []
    },
    {
      "metadata": {
        "trusted": true
      },
      "cell_type": "code",
      "source": "text1=cleanPunc(text)",
      "execution_count": 29,
      "outputs": []
    },
    {
      "metadata": {
        "trusted": true
      },
      "cell_type": "code",
      "source": "text2=keepAlpha(text1)",
      "execution_count": 30,
      "outputs": []
    },
    {
      "metadata": {
        "trusted": true
      },
      "cell_type": "code",
      "source": "text3=removeStopWords(text2)",
      "execution_count": 31,
      "outputs": []
    },
    {
      "metadata": {
        "trusted": true
      },
      "cell_type": "code",
      "source": "#vect = TfidfVectorizer(strip_accents='unicode', analyzer='word', ngram_range=(1,3), norm='l2')",
      "execution_count": null,
      "outputs": []
    },
    {
      "metadata": {
        "trusted": true
      },
      "cell_type": "code",
      "source": "vectorizer.fit([text3])",
      "execution_count": 32,
      "outputs": [
        {
          "output_type": "execute_result",
          "execution_count": 32,
          "data": {
            "text/plain": "TfidfVectorizer(analyzer='word', binary=False, decode_error='strict',\n        dtype=<class 'numpy.float64'>, encoding='utf-8', input='content',\n        lowercase=True, max_df=1.0, max_features=None, min_df=1,\n        ngram_range=(1, 3), norm='l2', preprocessor=None, smooth_idf=True,\n        stop_words=None, strip_accents='unicode', sublinear_tf=False,\n        token_pattern='(?u)\\\\b\\\\w\\\\w+\\\\b', tokenizer=None, use_idf=True,\n        vocabulary=None)"
          },
          "metadata": {}
        }
      ]
    },
    {
      "metadata": {
        "trusted": true
      },
      "cell_type": "code",
      "source": "doc_tfidf = vectorizer.transform([data_p['movie decription'][0]])",
      "execution_count": 33,
      "outputs": []
    },
    {
      "metadata": {
        "trusted": true
      },
      "cell_type": "code",
      "source": "doc_tfidf.shape",
      "execution_count": 34,
      "outputs": [
        {
          "output_type": "execute_result",
          "execution_count": 34,
          "data": {
            "text/plain": "(1, 57)"
          },
          "metadata": {}
        }
      ]
    },
    {
      "metadata": {
        "trusted": true
      },
      "cell_type": "code",
      "source": "x_test.shape",
      "execution_count": 35,
      "outputs": [
        {
          "output_type": "execute_result",
          "execution_count": 35,
          "data": {
            "text/plain": "(1835, 1859)"
          },
          "metadata": {}
        }
      ]
    },
    {
      "metadata": {
        "trusted": true
      },
      "cell_type": "code",
      "source": "x_train.shape",
      "execution_count": 36,
      "outputs": [
        {
          "output_type": "execute_result",
          "execution_count": 36,
          "data": {
            "text/plain": "(4281, 1859)"
          },
          "metadata": {}
        }
      ]
    },
    {
      "metadata": {},
      "cell_type": "markdown",
      "source": "\n#### This does not work as our matrix has 57 columns and our model is trained on 1859 features I am not yet able to get the solution will implement it once get a solution\n\nclassifier.predict(doc_tfidf)"
    },
    {
      "metadata": {},
      "cell_type": "markdown",
      "source": "Reference:\n\nhttps://www.analyticsvidhya.com/blog/2017/08/introduction-to-multi-label-classification/"
    }
  ],
  "metadata": {
    "kernelspec": {
      "name": "python36",
      "display_name": "Python 3.6",
      "language": "python"
    },
    "language_info": {
      "mimetype": "text/x-python",
      "nbconvert_exporter": "python",
      "name": "python",
      "pygments_lexer": "ipython3",
      "version": "3.6.6",
      "file_extension": ".py",
      "codemirror_mode": {
        "version": 3,
        "name": "ipython"
      }
    }
  },
  "nbformat": 4,
  "nbformat_minor": 2
}